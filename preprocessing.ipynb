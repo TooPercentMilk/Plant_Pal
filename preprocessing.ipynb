{
 "cells": [
  {
   "cell_type": "code",
   "execution_count": 1,
   "metadata": {},
   "outputs": [],
   "source": [
    "import torch\n",
    "import torchvision.transforms as transforms\n",
    "from PIL import Image\n",
    "import numpy as np"
   ]
  },
  {
   "cell_type": "code",
   "execution_count": null,
   "metadata": {},
   "outputs": [],
   "source": [
    "def resize_and_sharpen(image_path, ar_limits=(0, 100)):\n",
    "    # Open an image file\n",
    "    with Image.open(image_path) as img:\n",
    "        width, height = img.size\n",
    "        aspect_ratio = width / height\n",
    "        if aspect_ratio < ar_limits[0] or aspect_ratio > ar_limits[1]:\n",
    "            return None\n",
    "        \n",
    "        transform = transforms.Compose([\n",
    "            transforms.Resize((256, 256)),\n",
    "            transforms.Lambda(lambda img: transforms.functional.adjust_sharpness(img, sharpness_factor=2)),\n",
    "            transforms.ToTensor(),\n",
    "            transforms.Normalize(mean=[0.45587662, 0.49715131, 0.37855863], std=[0.18720555, 0.17101169, 0.19548449])\n",
    "        ])\n",
    "        img_transformed = transform(img)\n",
    "        return img_transformed\n",
    "# TODO: find optimal sharpness factor and ar_limits"
   ]
  },
  {
   "cell_type": "code",
   "execution_count": null,
   "metadata": {},
   "outputs": [],
   "source": []
  }
 ],
 "metadata": {
  "kernelspec": {
   "display_name": "env",
   "language": "python",
   "name": "python3"
  },
  "language_info": {
   "codemirror_mode": {
    "name": "ipython",
    "version": 3
   },
   "file_extension": ".py",
   "mimetype": "text/x-python",
   "name": "python",
   "nbconvert_exporter": "python",
   "pygments_lexer": "ipython3",
   "version": "3.10.9"
  }
 },
 "nbformat": 4,
 "nbformat_minor": 2
}
