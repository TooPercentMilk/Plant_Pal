{
 "cells": [
  {
   "cell_type": "code",
   "execution_count": 4,
   "metadata": {},
   "outputs": [],
   "source": [
    "import torch\n",
    "import torch.nn as nn\n",
    "import torch.optim as optim\n",
    "import torchvision\n",
    "import torchvision.transforms as transforms\n",
    "from torch.utils.data import DataLoader, Dataset\n",
    "from sklearn.model_selection import train_test_split\n",
    "from collections import defaultdict\n",
    "from tqdm import tqdm\n",
    "import matplotlib.pyplot as plt\n",
    "import numpy as np\n",
    "import pandas as pd\n",
    "import os"
   ]
  },
  {
   "cell_type": "code",
   "execution_count": 2,
   "metadata": {},
   "outputs": [
    {
     "name": "stdout",
     "output_type": "stream",
     "text": [
      "Base Directory: /Users/brad/Desktop/Plant_Pal\n",
      "Data Directory: /Users/brad/Desktop/Plant_Pal/data\n"
     ]
    }
   ],
   "source": [
    "base_directory = os.getcwd()\n",
    "data_directory = os.path.join(base_directory, \"data\")\n",
    "print(\"Base Directory:\", base_directory)\n",
    "print(\"Data Directory:\", data_directory)\n",
    "\n",
    "data_dirs = os.listdir(data_directory)"
   ]
  },
  {
   "cell_type": "code",
   "execution_count": null,
   "metadata": {},
   "outputs": [],
   "source": [
    "# create a dataframe with sample data\n",
    "df_species = pd.DataFrame({\n",
    "    'Species': ['Dog', 'Cat', 'Bird'],\n",
    "    'Condition': ['Healthy', 'Sick', 'Healthy'],\n",
    "    'ID': [1, 2, 3]\n",
    "})\n",
    "data = []\n",
    "\n",
    "for data_dir in data_dirs:\n",
    "    if data_dir == \".DS_Store\":\n",
    "        continue\n",
    "    species, label = data_dir.split('___')  # how species and label are delineated in filenames\n",
    "    image_files = os.listdir()\n",
    "    for image in image_files:\n",
    "        entry = [species, label, image]\n",
    "        data.append(entry)\n",
    "\n",
    "data_df = pd.DataFrame(data, columns=['Species', 'Condition', 'Image'])"
   ]
  },
  {
   "cell_type": "code",
   "execution_count": null,
   "metadata": {
    "vscode": {
     "languageId": "julia"
    }
   },
   "outputs": [],
   "source": [
    "# Split the data into train (80%) and temp (20%)\n",
    "train_df, temp_df = train_test_split(data_df, test_size=0.2, stratify=data_df[['Species', 'Condition']], random_state=2)\n",
    "\n",
    "# Split the temp data into validation (10%) and test (10%)\n",
    "val_df, test_df = train_test_split(temp_df, test_size=0.5, stratify=temp_df[['Species', 'Condition']], random_state=2)\n",
    "\n",
    "print(\"Training set size:\", len(train_df))\n",
    "print(\"Validation set size:\", len(val_df))\n",
    "print(\"Test set size:\", len(test_df))\n",
    "# Adjust the training dataframe to ensure no more than 300 samples of any particular condition\n",
    "train_df = train_df.groupby('Condition').apply(lambda x: x.sample(n=min(len(x), 300), random_state=2)).reset_index(drop=True)\n",
    "\n",
    "print(\"Adjusted Training set size:\", len(train_df))"
   ]
  }
 ],
 "metadata": {
  "kernelspec": {
   "display_name": "env",
   "language": "python",
   "name": "python3"
  },
  "language_info": {
   "codemirror_mode": {
    "name": "ipython",
    "version": 3
   },
   "file_extension": ".py",
   "mimetype": "text/x-python",
   "name": "python",
   "nbconvert_exporter": "python",
   "pygments_lexer": "ipython3",
   "version": "3.10.9"
  }
 },
 "nbformat": 4,
 "nbformat_minor": 2
}
